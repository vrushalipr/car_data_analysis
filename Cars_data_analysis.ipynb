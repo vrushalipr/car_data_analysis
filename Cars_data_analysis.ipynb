{
  "nbformat": 4,
  "nbformat_minor": 0,
  "metadata": {
    "colab": {
      "provenance": [],
      "mount_file_id": "1Jx8MSNBcDhyAe5W6gterMNk0vMd7-4UE",
      "authorship_tag": "ABX9TyPSxPfVdUld7q5AlSxG6d0x"
    },
    "kernelspec": {
      "name": "python3",
      "display_name": "Python 3"
    },
    "language_info": {
      "name": "python"
    }
  },
  "cells": [
    {
      "cell_type": "code",
      "execution_count": 1,
      "metadata": {
        "id": "zL1ZGOJb3djr"
      },
      "outputs": [],
      "source": [
        "import pandas as pd\n",
        "import numpy as np\n",
        "import matplotlib.pyplot as plt\n",
        "\n",
        "%matplotlib inline\n",
        "import seaborn as sns "
      ]
    },
    {
      "cell_type": "code",
      "source": [
        "cars_df = pd.read_csv('/Cars.csv')"
      ],
      "metadata": {
        "id": "10bIWVrq3i0o"
      },
      "execution_count": 2,
      "outputs": []
    },
    {
      "cell_type": "code",
      "source": [
        "cars_df.head()"
      ],
      "metadata": {
        "colab": {
          "base_uri": "https://localhost:8080/",
          "height": 426
        },
        "id": "gPJ8fGyI3i3f",
        "outputId": "313e63d8-2fc4-4074-9ab4-12e8362afd30"
      },
      "execution_count": 3,
      "outputs": [
        {
          "output_type": "execute_result",
          "data": {
            "text/plain": [
              "                          name  sports_car    suv  wagon  minivan  pickup  \\\n",
              "0           Chevrolet Aveo 4dr       False  False  False    False   False   \n",
              "1  Chevrolet Aveo LS 4dr hatch       False  False  False    False   False   \n",
              "2       Chevrolet Cavalier 2dr       False  False  False    False   False   \n",
              "3       Chevrolet Cavalier 4dr       False  False  False    False   False   \n",
              "4    Chevrolet Cavalier LS 2dr       False  False  False    False   False   \n",
              "\n",
              "   all_wheel  rear_wheel   msrp  dealer_cost  eng_size  ncyl  horsepwr  \\\n",
              "0      False       False  11690        10965       1.6     4       103   \n",
              "1      False       False  12585        11802       1.6     4       103   \n",
              "2      False       False  14610        13697       2.2     4       140   \n",
              "3      False       False  14810        13884       2.2     4       140   \n",
              "4      False       False  16385        15357       2.2     4       140   \n",
              "\n",
              "   city_mpg  hwy_mpg  weight  wheel_base  length  width  \n",
              "0      28.0     34.0  2370.0        98.0   167.0   66.0  \n",
              "1      28.0     34.0  2348.0        98.0   153.0   66.0  \n",
              "2      26.0     37.0  2617.0       104.0   183.0   69.0  \n",
              "3      26.0     37.0  2676.0       104.0   183.0   68.0  \n",
              "4      26.0     37.0  2617.0       104.0   183.0   69.0  "
            ],
            "text/html": [
              "\n",
              "  <div id=\"df-a992eacf-eba1-4242-b91f-526ffc099670\">\n",
              "    <div class=\"colab-df-container\">\n",
              "      <div>\n",
              "<style scoped>\n",
              "    .dataframe tbody tr th:only-of-type {\n",
              "        vertical-align: middle;\n",
              "    }\n",
              "\n",
              "    .dataframe tbody tr th {\n",
              "        vertical-align: top;\n",
              "    }\n",
              "\n",
              "    .dataframe thead th {\n",
              "        text-align: right;\n",
              "    }\n",
              "</style>\n",
              "<table border=\"1\" class=\"dataframe\">\n",
              "  <thead>\n",
              "    <tr style=\"text-align: right;\">\n",
              "      <th></th>\n",
              "      <th>name</th>\n",
              "      <th>sports_car</th>\n",
              "      <th>suv</th>\n",
              "      <th>wagon</th>\n",
              "      <th>minivan</th>\n",
              "      <th>pickup</th>\n",
              "      <th>all_wheel</th>\n",
              "      <th>rear_wheel</th>\n",
              "      <th>msrp</th>\n",
              "      <th>dealer_cost</th>\n",
              "      <th>eng_size</th>\n",
              "      <th>ncyl</th>\n",
              "      <th>horsepwr</th>\n",
              "      <th>city_mpg</th>\n",
              "      <th>hwy_mpg</th>\n",
              "      <th>weight</th>\n",
              "      <th>wheel_base</th>\n",
              "      <th>length</th>\n",
              "      <th>width</th>\n",
              "    </tr>\n",
              "  </thead>\n",
              "  <tbody>\n",
              "    <tr>\n",
              "      <th>0</th>\n",
              "      <td>Chevrolet Aveo 4dr</td>\n",
              "      <td>False</td>\n",
              "      <td>False</td>\n",
              "      <td>False</td>\n",
              "      <td>False</td>\n",
              "      <td>False</td>\n",
              "      <td>False</td>\n",
              "      <td>False</td>\n",
              "      <td>11690</td>\n",
              "      <td>10965</td>\n",
              "      <td>1.6</td>\n",
              "      <td>4</td>\n",
              "      <td>103</td>\n",
              "      <td>28.0</td>\n",
              "      <td>34.0</td>\n",
              "      <td>2370.0</td>\n",
              "      <td>98.0</td>\n",
              "      <td>167.0</td>\n",
              "      <td>66.0</td>\n",
              "    </tr>\n",
              "    <tr>\n",
              "      <th>1</th>\n",
              "      <td>Chevrolet Aveo LS 4dr hatch</td>\n",
              "      <td>False</td>\n",
              "      <td>False</td>\n",
              "      <td>False</td>\n",
              "      <td>False</td>\n",
              "      <td>False</td>\n",
              "      <td>False</td>\n",
              "      <td>False</td>\n",
              "      <td>12585</td>\n",
              "      <td>11802</td>\n",
              "      <td>1.6</td>\n",
              "      <td>4</td>\n",
              "      <td>103</td>\n",
              "      <td>28.0</td>\n",
              "      <td>34.0</td>\n",
              "      <td>2348.0</td>\n",
              "      <td>98.0</td>\n",
              "      <td>153.0</td>\n",
              "      <td>66.0</td>\n",
              "    </tr>\n",
              "    <tr>\n",
              "      <th>2</th>\n",
              "      <td>Chevrolet Cavalier 2dr</td>\n",
              "      <td>False</td>\n",
              "      <td>False</td>\n",
              "      <td>False</td>\n",
              "      <td>False</td>\n",
              "      <td>False</td>\n",
              "      <td>False</td>\n",
              "      <td>False</td>\n",
              "      <td>14610</td>\n",
              "      <td>13697</td>\n",
              "      <td>2.2</td>\n",
              "      <td>4</td>\n",
              "      <td>140</td>\n",
              "      <td>26.0</td>\n",
              "      <td>37.0</td>\n",
              "      <td>2617.0</td>\n",
              "      <td>104.0</td>\n",
              "      <td>183.0</td>\n",
              "      <td>69.0</td>\n",
              "    </tr>\n",
              "    <tr>\n",
              "      <th>3</th>\n",
              "      <td>Chevrolet Cavalier 4dr</td>\n",
              "      <td>False</td>\n",
              "      <td>False</td>\n",
              "      <td>False</td>\n",
              "      <td>False</td>\n",
              "      <td>False</td>\n",
              "      <td>False</td>\n",
              "      <td>False</td>\n",
              "      <td>14810</td>\n",
              "      <td>13884</td>\n",
              "      <td>2.2</td>\n",
              "      <td>4</td>\n",
              "      <td>140</td>\n",
              "      <td>26.0</td>\n",
              "      <td>37.0</td>\n",
              "      <td>2676.0</td>\n",
              "      <td>104.0</td>\n",
              "      <td>183.0</td>\n",
              "      <td>68.0</td>\n",
              "    </tr>\n",
              "    <tr>\n",
              "      <th>4</th>\n",
              "      <td>Chevrolet Cavalier LS 2dr</td>\n",
              "      <td>False</td>\n",
              "      <td>False</td>\n",
              "      <td>False</td>\n",
              "      <td>False</td>\n",
              "      <td>False</td>\n",
              "      <td>False</td>\n",
              "      <td>False</td>\n",
              "      <td>16385</td>\n",
              "      <td>15357</td>\n",
              "      <td>2.2</td>\n",
              "      <td>4</td>\n",
              "      <td>140</td>\n",
              "      <td>26.0</td>\n",
              "      <td>37.0</td>\n",
              "      <td>2617.0</td>\n",
              "      <td>104.0</td>\n",
              "      <td>183.0</td>\n",
              "      <td>69.0</td>\n",
              "    </tr>\n",
              "  </tbody>\n",
              "</table>\n",
              "</div>\n",
              "      <button class=\"colab-df-convert\" onclick=\"convertToInteractive('df-a992eacf-eba1-4242-b91f-526ffc099670')\"\n",
              "              title=\"Convert this dataframe to an interactive table.\"\n",
              "              style=\"display:none;\">\n",
              "        \n",
              "  <svg xmlns=\"http://www.w3.org/2000/svg\" height=\"24px\"viewBox=\"0 0 24 24\"\n",
              "       width=\"24px\">\n",
              "    <path d=\"M0 0h24v24H0V0z\" fill=\"none\"/>\n",
              "    <path d=\"M18.56 5.44l.94 2.06.94-2.06 2.06-.94-2.06-.94-.94-2.06-.94 2.06-2.06.94zm-11 1L8.5 8.5l.94-2.06 2.06-.94-2.06-.94L8.5 2.5l-.94 2.06-2.06.94zm10 10l.94 2.06.94-2.06 2.06-.94-2.06-.94-.94-2.06-.94 2.06-2.06.94z\"/><path d=\"M17.41 7.96l-1.37-1.37c-.4-.4-.92-.59-1.43-.59-.52 0-1.04.2-1.43.59L10.3 9.45l-7.72 7.72c-.78.78-.78 2.05 0 2.83L4 21.41c.39.39.9.59 1.41.59.51 0 1.02-.2 1.41-.59l7.78-7.78 2.81-2.81c.8-.78.8-2.07 0-2.86zM5.41 20L4 18.59l7.72-7.72 1.47 1.35L5.41 20z\"/>\n",
              "  </svg>\n",
              "      </button>\n",
              "      \n",
              "  <style>\n",
              "    .colab-df-container {\n",
              "      display:flex;\n",
              "      flex-wrap:wrap;\n",
              "      gap: 12px;\n",
              "    }\n",
              "\n",
              "    .colab-df-convert {\n",
              "      background-color: #E8F0FE;\n",
              "      border: none;\n",
              "      border-radius: 50%;\n",
              "      cursor: pointer;\n",
              "      display: none;\n",
              "      fill: #1967D2;\n",
              "      height: 32px;\n",
              "      padding: 0 0 0 0;\n",
              "      width: 32px;\n",
              "    }\n",
              "\n",
              "    .colab-df-convert:hover {\n",
              "      background-color: #E2EBFA;\n",
              "      box-shadow: 0px 1px 2px rgba(60, 64, 67, 0.3), 0px 1px 3px 1px rgba(60, 64, 67, 0.15);\n",
              "      fill: #174EA6;\n",
              "    }\n",
              "\n",
              "    [theme=dark] .colab-df-convert {\n",
              "      background-color: #3B4455;\n",
              "      fill: #D2E3FC;\n",
              "    }\n",
              "\n",
              "    [theme=dark] .colab-df-convert:hover {\n",
              "      background-color: #434B5C;\n",
              "      box-shadow: 0px 1px 3px 1px rgba(0, 0, 0, 0.15);\n",
              "      filter: drop-shadow(0px 1px 2px rgba(0, 0, 0, 0.3));\n",
              "      fill: #FFFFFF;\n",
              "    }\n",
              "  </style>\n",
              "\n",
              "      <script>\n",
              "        const buttonEl =\n",
              "          document.querySelector('#df-a992eacf-eba1-4242-b91f-526ffc099670 button.colab-df-convert');\n",
              "        buttonEl.style.display =\n",
              "          google.colab.kernel.accessAllowed ? 'block' : 'none';\n",
              "\n",
              "        async function convertToInteractive(key) {\n",
              "          const element = document.querySelector('#df-a992eacf-eba1-4242-b91f-526ffc099670');\n",
              "          const dataTable =\n",
              "            await google.colab.kernel.invokeFunction('convertToInteractive',\n",
              "                                                     [key], {});\n",
              "          if (!dataTable) return;\n",
              "\n",
              "          const docLinkHtml = 'Like what you see? Visit the ' +\n",
              "            '<a target=\"_blank\" href=https://colab.research.google.com/notebooks/data_table.ipynb>data table notebook</a>'\n",
              "            + ' to learn more about interactive tables.';\n",
              "          element.innerHTML = '';\n",
              "          dataTable['output_type'] = 'display_data';\n",
              "          await google.colab.output.renderOutput(dataTable, element);\n",
              "          const docLink = document.createElement('div');\n",
              "          docLink.innerHTML = docLinkHtml;\n",
              "          element.appendChild(docLink);\n",
              "        }\n",
              "      </script>\n",
              "    </div>\n",
              "  </div>\n",
              "  "
            ]
          },
          "metadata": {},
          "execution_count": 3
        }
      ]
    },
    {
      "cell_type": "code",
      "source": [
        "cars_df.shape"
      ],
      "metadata": {
        "colab": {
          "base_uri": "https://localhost:8080/"
        },
        "id": "sQdVRx7D4ZGU",
        "outputId": "b1fd89e8-8eff-4be2-ae8d-efb0fbde1c34"
      },
      "execution_count": 4,
      "outputs": [
        {
          "output_type": "execute_result",
          "data": {
            "text/plain": [
              "(428, 19)"
            ]
          },
          "metadata": {},
          "execution_count": 4
        }
      ]
    },
    {
      "cell_type": "code",
      "source": [
        "cars_df.dtypes"
      ],
      "metadata": {
        "colab": {
          "base_uri": "https://localhost:8080/"
        },
        "id": "J4rXStEq4ZJb",
        "outputId": "f2fdf91f-d0cc-4156-da04-e0a2a8c97d86"
      },
      "execution_count": 5,
      "outputs": [
        {
          "output_type": "execute_result",
          "data": {
            "text/plain": [
              "name            object\n",
              "sports_car        bool\n",
              "suv               bool\n",
              "wagon             bool\n",
              "minivan           bool\n",
              "pickup            bool\n",
              "all_wheel         bool\n",
              "rear_wheel        bool\n",
              "msrp             int64\n",
              "dealer_cost      int64\n",
              "eng_size       float64\n",
              "ncyl             int64\n",
              "horsepwr         int64\n",
              "city_mpg       float64\n",
              "hwy_mpg        float64\n",
              "weight         float64\n",
              "wheel_base     float64\n",
              "length         float64\n",
              "width          float64\n",
              "dtype: object"
            ]
          },
          "metadata": {},
          "execution_count": 5
        }
      ]
    },
    {
      "cell_type": "code",
      "source": [
        "cars_df.info()"
      ],
      "metadata": {
        "colab": {
          "base_uri": "https://localhost:8080/"
        },
        "id": "EKN3nTPi4ZMC",
        "outputId": "f6c06f18-ffde-414a-f53c-a61ffdfc0bbd"
      },
      "execution_count": 7,
      "outputs": [
        {
          "output_type": "stream",
          "name": "stdout",
          "text": [
            "<class 'pandas.core.frame.DataFrame'>\n",
            "RangeIndex: 428 entries, 0 to 427\n",
            "Data columns (total 19 columns):\n",
            " #   Column       Non-Null Count  Dtype  \n",
            "---  ------       --------------  -----  \n",
            " 0   name         428 non-null    object \n",
            " 1   sports_car   428 non-null    bool   \n",
            " 2   suv          428 non-null    bool   \n",
            " 3   wagon        428 non-null    bool   \n",
            " 4   minivan      428 non-null    bool   \n",
            " 5   pickup       428 non-null    bool   \n",
            " 6   all_wheel    428 non-null    bool   \n",
            " 7   rear_wheel   428 non-null    bool   \n",
            " 8   msrp         428 non-null    int64  \n",
            " 9   dealer_cost  428 non-null    int64  \n",
            " 10  eng_size     428 non-null    float64\n",
            " 11  ncyl         428 non-null    int64  \n",
            " 12  horsepwr     428 non-null    int64  \n",
            " 13  city_mpg     414 non-null    float64\n",
            " 14  hwy_mpg      414 non-null    float64\n",
            " 15  weight       426 non-null    float64\n",
            " 16  wheel_base   426 non-null    float64\n",
            " 17  length       402 non-null    float64\n",
            " 18  width        400 non-null    float64\n",
            "dtypes: bool(7), float64(7), int64(4), object(1)\n",
            "memory usage: 43.2+ KB\n"
          ]
        }
      ]
    },
    {
      "cell_type": "code",
      "source": [
        "cars_df.isnull().sum()"
      ],
      "metadata": {
        "colab": {
          "base_uri": "https://localhost:8080/"
        },
        "id": "wquyuiBJ4ZOp",
        "outputId": "66e31288-5fd5-49c8-a1b5-e977087ec1ba"
      },
      "execution_count": 12,
      "outputs": [
        {
          "output_type": "execute_result",
          "data": {
            "text/plain": [
              "name           0\n",
              "sports_car     0\n",
              "suv            0\n",
              "wagon          0\n",
              "minivan        0\n",
              "pickup         0\n",
              "all_wheel      0\n",
              "rear_wheel     0\n",
              "msrp           0\n",
              "dealer_cost    0\n",
              "eng_size       0\n",
              "ncyl           0\n",
              "horsepwr       0\n",
              "city_mpg       0\n",
              "hwy_mpg        0\n",
              "weight         0\n",
              "wheel_base     0\n",
              "length         0\n",
              "width          0\n",
              "dtype: int64"
            ]
          },
          "metadata": {},
          "execution_count": 12
        }
      ]
    },
    {
      "cell_type": "code",
      "source": [
        "# Taking care of null values, filling then with 0 as they are all of float data types\n",
        "cars_df['city_mpg'] = cars_df['city_mpg'].fillna(0)\n",
        "cars_df['hwy_mpg'] = cars_df['hwy_mpg'].fillna(0)\n",
        "cars_df['weight'] = cars_df['weight'].fillna(0)\n",
        "cars_df['wheel_base'] = cars_df['wheel_base'].fillna(0)\n",
        "cars_df['length'] = cars_df['length'].fillna(0)\n",
        "cars_df['width'] = cars_df['width'].fillna(0)"
      ],
      "metadata": {
        "id": "QTfFT4TH4ZQ_"
      },
      "execution_count": 11,
      "outputs": []
    },
    {
      "cell_type": "code",
      "source": [
        "cars_df.describe()"
      ],
      "metadata": {
        "colab": {
          "base_uri": "https://localhost:8080/",
          "height": 300
        },
        "id": "TcsVfYGx4ZTk",
        "outputId": "d09cab8d-9e99-41df-c809-5358b2313c72"
      },
      "execution_count": 14,
      "outputs": [
        {
          "output_type": "execute_result",
          "data": {
            "text/plain": [
              "                msrp    dealer_cost    eng_size        ncyl    horsepwr  \\\n",
              "count     428.000000     428.000000  428.000000  428.000000  428.000000   \n",
              "mean    32774.855140   30014.700935    3.196729    5.775701  215.885514   \n",
              "std     19431.716674   17642.117750    1.108595    1.622779   71.836032   \n",
              "min     10280.000000    9875.000000    1.300000   -1.000000   73.000000   \n",
              "25%     20334.250000   18866.000000    2.375000    4.000000  165.000000   \n",
              "50%     27635.000000   25294.500000    3.000000    6.000000  210.000000   \n",
              "75%     39205.000000   35710.250000    3.900000    6.000000  255.000000   \n",
              "max    192465.000000  173560.000000    8.300000   12.000000  500.000000   \n",
              "\n",
              "         city_mpg     hwy_mpg       weight  wheel_base      length       width  \n",
              "count  428.000000  428.000000   428.000000  428.000000  428.000000  428.000000  \n",
              "mean    19.432243   26.025701  3560.497664  107.668224  173.880841   66.628505  \n",
              "std      6.251751    7.372129   797.002777   11.115625   46.113771   17.951139  \n",
              "min      0.000000    0.000000     0.000000    0.000000    0.000000    0.000000  \n",
              "25%     17.000000   24.000000  3090.750000  103.000000  175.000000   68.000000  \n",
              "50%     19.000000   26.000000  3472.500000  107.000000  184.500000   71.000000  \n",
              "75%     21.000000   29.000000  3968.750000  112.000000  192.000000   73.000000  \n",
              "max     60.000000   66.000000  7190.000000  144.000000  227.000000   81.000000  "
            ],
            "text/html": [
              "\n",
              "  <div id=\"df-eae5fc0e-0bc6-4960-b04d-a806e258bcdf\">\n",
              "    <div class=\"colab-df-container\">\n",
              "      <div>\n",
              "<style scoped>\n",
              "    .dataframe tbody tr th:only-of-type {\n",
              "        vertical-align: middle;\n",
              "    }\n",
              "\n",
              "    .dataframe tbody tr th {\n",
              "        vertical-align: top;\n",
              "    }\n",
              "\n",
              "    .dataframe thead th {\n",
              "        text-align: right;\n",
              "    }\n",
              "</style>\n",
              "<table border=\"1\" class=\"dataframe\">\n",
              "  <thead>\n",
              "    <tr style=\"text-align: right;\">\n",
              "      <th></th>\n",
              "      <th>msrp</th>\n",
              "      <th>dealer_cost</th>\n",
              "      <th>eng_size</th>\n",
              "      <th>ncyl</th>\n",
              "      <th>horsepwr</th>\n",
              "      <th>city_mpg</th>\n",
              "      <th>hwy_mpg</th>\n",
              "      <th>weight</th>\n",
              "      <th>wheel_base</th>\n",
              "      <th>length</th>\n",
              "      <th>width</th>\n",
              "    </tr>\n",
              "  </thead>\n",
              "  <tbody>\n",
              "    <tr>\n",
              "      <th>count</th>\n",
              "      <td>428.000000</td>\n",
              "      <td>428.000000</td>\n",
              "      <td>428.000000</td>\n",
              "      <td>428.000000</td>\n",
              "      <td>428.000000</td>\n",
              "      <td>428.000000</td>\n",
              "      <td>428.000000</td>\n",
              "      <td>428.000000</td>\n",
              "      <td>428.000000</td>\n",
              "      <td>428.000000</td>\n",
              "      <td>428.000000</td>\n",
              "    </tr>\n",
              "    <tr>\n",
              "      <th>mean</th>\n",
              "      <td>32774.855140</td>\n",
              "      <td>30014.700935</td>\n",
              "      <td>3.196729</td>\n",
              "      <td>5.775701</td>\n",
              "      <td>215.885514</td>\n",
              "      <td>19.432243</td>\n",
              "      <td>26.025701</td>\n",
              "      <td>3560.497664</td>\n",
              "      <td>107.668224</td>\n",
              "      <td>173.880841</td>\n",
              "      <td>66.628505</td>\n",
              "    </tr>\n",
              "    <tr>\n",
              "      <th>std</th>\n",
              "      <td>19431.716674</td>\n",
              "      <td>17642.117750</td>\n",
              "      <td>1.108595</td>\n",
              "      <td>1.622779</td>\n",
              "      <td>71.836032</td>\n",
              "      <td>6.251751</td>\n",
              "      <td>7.372129</td>\n",
              "      <td>797.002777</td>\n",
              "      <td>11.115625</td>\n",
              "      <td>46.113771</td>\n",
              "      <td>17.951139</td>\n",
              "    </tr>\n",
              "    <tr>\n",
              "      <th>min</th>\n",
              "      <td>10280.000000</td>\n",
              "      <td>9875.000000</td>\n",
              "      <td>1.300000</td>\n",
              "      <td>-1.000000</td>\n",
              "      <td>73.000000</td>\n",
              "      <td>0.000000</td>\n",
              "      <td>0.000000</td>\n",
              "      <td>0.000000</td>\n",
              "      <td>0.000000</td>\n",
              "      <td>0.000000</td>\n",
              "      <td>0.000000</td>\n",
              "    </tr>\n",
              "    <tr>\n",
              "      <th>25%</th>\n",
              "      <td>20334.250000</td>\n",
              "      <td>18866.000000</td>\n",
              "      <td>2.375000</td>\n",
              "      <td>4.000000</td>\n",
              "      <td>165.000000</td>\n",
              "      <td>17.000000</td>\n",
              "      <td>24.000000</td>\n",
              "      <td>3090.750000</td>\n",
              "      <td>103.000000</td>\n",
              "      <td>175.000000</td>\n",
              "      <td>68.000000</td>\n",
              "    </tr>\n",
              "    <tr>\n",
              "      <th>50%</th>\n",
              "      <td>27635.000000</td>\n",
              "      <td>25294.500000</td>\n",
              "      <td>3.000000</td>\n",
              "      <td>6.000000</td>\n",
              "      <td>210.000000</td>\n",
              "      <td>19.000000</td>\n",
              "      <td>26.000000</td>\n",
              "      <td>3472.500000</td>\n",
              "      <td>107.000000</td>\n",
              "      <td>184.500000</td>\n",
              "      <td>71.000000</td>\n",
              "    </tr>\n",
              "    <tr>\n",
              "      <th>75%</th>\n",
              "      <td>39205.000000</td>\n",
              "      <td>35710.250000</td>\n",
              "      <td>3.900000</td>\n",
              "      <td>6.000000</td>\n",
              "      <td>255.000000</td>\n",
              "      <td>21.000000</td>\n",
              "      <td>29.000000</td>\n",
              "      <td>3968.750000</td>\n",
              "      <td>112.000000</td>\n",
              "      <td>192.000000</td>\n",
              "      <td>73.000000</td>\n",
              "    </tr>\n",
              "    <tr>\n",
              "      <th>max</th>\n",
              "      <td>192465.000000</td>\n",
              "      <td>173560.000000</td>\n",
              "      <td>8.300000</td>\n",
              "      <td>12.000000</td>\n",
              "      <td>500.000000</td>\n",
              "      <td>60.000000</td>\n",
              "      <td>66.000000</td>\n",
              "      <td>7190.000000</td>\n",
              "      <td>144.000000</td>\n",
              "      <td>227.000000</td>\n",
              "      <td>81.000000</td>\n",
              "    </tr>\n",
              "  </tbody>\n",
              "</table>\n",
              "</div>\n",
              "      <button class=\"colab-df-convert\" onclick=\"convertToInteractive('df-eae5fc0e-0bc6-4960-b04d-a806e258bcdf')\"\n",
              "              title=\"Convert this dataframe to an interactive table.\"\n",
              "              style=\"display:none;\">\n",
              "        \n",
              "  <svg xmlns=\"http://www.w3.org/2000/svg\" height=\"24px\"viewBox=\"0 0 24 24\"\n",
              "       width=\"24px\">\n",
              "    <path d=\"M0 0h24v24H0V0z\" fill=\"none\"/>\n",
              "    <path d=\"M18.56 5.44l.94 2.06.94-2.06 2.06-.94-2.06-.94-.94-2.06-.94 2.06-2.06.94zm-11 1L8.5 8.5l.94-2.06 2.06-.94-2.06-.94L8.5 2.5l-.94 2.06-2.06.94zm10 10l.94 2.06.94-2.06 2.06-.94-2.06-.94-.94-2.06-.94 2.06-2.06.94z\"/><path d=\"M17.41 7.96l-1.37-1.37c-.4-.4-.92-.59-1.43-.59-.52 0-1.04.2-1.43.59L10.3 9.45l-7.72 7.72c-.78.78-.78 2.05 0 2.83L4 21.41c.39.39.9.59 1.41.59.51 0 1.02-.2 1.41-.59l7.78-7.78 2.81-2.81c.8-.78.8-2.07 0-2.86zM5.41 20L4 18.59l7.72-7.72 1.47 1.35L5.41 20z\"/>\n",
              "  </svg>\n",
              "      </button>\n",
              "      \n",
              "  <style>\n",
              "    .colab-df-container {\n",
              "      display:flex;\n",
              "      flex-wrap:wrap;\n",
              "      gap: 12px;\n",
              "    }\n",
              "\n",
              "    .colab-df-convert {\n",
              "      background-color: #E8F0FE;\n",
              "      border: none;\n",
              "      border-radius: 50%;\n",
              "      cursor: pointer;\n",
              "      display: none;\n",
              "      fill: #1967D2;\n",
              "      height: 32px;\n",
              "      padding: 0 0 0 0;\n",
              "      width: 32px;\n",
              "    }\n",
              "\n",
              "    .colab-df-convert:hover {\n",
              "      background-color: #E2EBFA;\n",
              "      box-shadow: 0px 1px 2px rgba(60, 64, 67, 0.3), 0px 1px 3px 1px rgba(60, 64, 67, 0.15);\n",
              "      fill: #174EA6;\n",
              "    }\n",
              "\n",
              "    [theme=dark] .colab-df-convert {\n",
              "      background-color: #3B4455;\n",
              "      fill: #D2E3FC;\n",
              "    }\n",
              "\n",
              "    [theme=dark] .colab-df-convert:hover {\n",
              "      background-color: #434B5C;\n",
              "      box-shadow: 0px 1px 3px 1px rgba(0, 0, 0, 0.15);\n",
              "      filter: drop-shadow(0px 1px 2px rgba(0, 0, 0, 0.3));\n",
              "      fill: #FFFFFF;\n",
              "    }\n",
              "  </style>\n",
              "\n",
              "      <script>\n",
              "        const buttonEl =\n",
              "          document.querySelector('#df-eae5fc0e-0bc6-4960-b04d-a806e258bcdf button.colab-df-convert');\n",
              "        buttonEl.style.display =\n",
              "          google.colab.kernel.accessAllowed ? 'block' : 'none';\n",
              "\n",
              "        async function convertToInteractive(key) {\n",
              "          const element = document.querySelector('#df-eae5fc0e-0bc6-4960-b04d-a806e258bcdf');\n",
              "          const dataTable =\n",
              "            await google.colab.kernel.invokeFunction('convertToInteractive',\n",
              "                                                     [key], {});\n",
              "          if (!dataTable) return;\n",
              "\n",
              "          const docLinkHtml = 'Like what you see? Visit the ' +\n",
              "            '<a target=\"_blank\" href=https://colab.research.google.com/notebooks/data_table.ipynb>data table notebook</a>'\n",
              "            + ' to learn more about interactive tables.';\n",
              "          element.innerHTML = '';\n",
              "          dataTable['output_type'] = 'display_data';\n",
              "          await google.colab.output.renderOutput(dataTable, element);\n",
              "          const docLink = document.createElement('div');\n",
              "          docLink.innerHTML = docLinkHtml;\n",
              "          element.appendChild(docLink);\n",
              "        }\n",
              "      </script>\n",
              "    </div>\n",
              "  </div>\n",
              "  "
            ]
          },
          "metadata": {},
          "execution_count": 14
        }
      ]
    },
    {
      "cell_type": "code",
      "source": [
        "plt.figure(figsize=(6,6))\n",
        "g = sns.distplot(a=cars_df['msrp'])"
      ],
      "metadata": {
        "colab": {
          "base_uri": "https://localhost:8080/",
          "height": 455
        },
        "id": "iPDM5X464ZWM",
        "outputId": "62a49a36-6025-4f9f-d45c-2c1af49cfac1"
      },
      "execution_count": 16,
      "outputs": [
        {
          "output_type": "stream",
          "name": "stderr",
          "text": [
            "/usr/local/lib/python3.8/dist-packages/seaborn/distributions.py:2619: FutureWarning: `distplot` is a deprecated function and will be removed in a future version. Please adapt your code to use either `displot` (a figure-level function with similar flexibility) or `histplot` (an axes-level function for histograms).\n",
            "  warnings.warn(msg, FutureWarning)\n"
          ]
        },
        {
          "output_type": "display_data",
          "data": {
            "text/plain": [
              "<Figure size 432x432 with 1 Axes>"
            ],
            "image/png": "[encoded data removed]"
          },
          "metadata": {
            "needs_background": "light"
          }
        }
      ]
    },
    {
      "cell_type": "code",
      "source": [
        "# Lets Check outliers in 'Rating' Column\n",
        "plt.figure(figsize=(5,5))\n",
        "sns.boxplot(y='msrp',data=cars_df,orient='v',palette='Set1')\n",
        "plt.title('Boxplot for MSRP')\n",
        "plt.ylabel('MSRP')"
      ],
      "metadata": {
        "colab": {
          "base_uri": "https://localhost:8080/",
          "height": 340
        },
        "id": "oJnU_0OB4ZYi",
        "outputId": "d399066f-4bfa-41b4-8a85-519a6fb25347"
      },
      "execution_count": 19,
      "outputs": [
        {
          "output_type": "execute_result",
          "data": {
            "text/plain": [
              "Text(0, 0.5, 'MSRP')"
            ]
          },
          "metadata": {},
          "execution_count": 19
        },
        {
          "output_type": "display_data",
          "data": {
            "text/plain": [
              "<Figure size 360x360 with 1 Axes>"
            ],
            "image/png": "[encoded data removed]"
          },
          "metadata": {
            "needs_background": "light"
          }
        }
      ]
    },
    {
      "cell_type": "code",
      "source": [
        "plt.figure(figsize=(6,6))\n",
        "g = sns.distplot(a=cars_df['dealer_cost'])"
      ],
      "metadata": {
        "colab": {
          "base_uri": "https://localhost:8080/",
          "height": 456
        },
        "id": "lrD022hX4ZbJ",
        "outputId": "1cb18c19-e04b-4994-8a47-5524f2df98ce"
      },
      "execution_count": 20,
      "outputs": [
        {
          "output_type": "stream",
          "name": "stderr",
          "text": [
            "/usr/local/lib/python3.8/dist-packages/seaborn/distributions.py:2619: FutureWarning: `distplot` is a deprecated function and will be removed in a future version. Please adapt your code to use either `displot` (a figure-level function with similar flexibility) or `histplot` (an axes-level function for histograms).\n",
            "  warnings.warn(msg, FutureWarning)\n"
          ]
        },
        {
          "output_type": "display_data",
          "data": {
            "text/plain": [
              "<Figure size 432x432 with 1 Axes>"
            ],
            "image/png": "[encoded data removed]"
          },
          "metadata": {
            "needs_background": "light"
          }
        }
      ]
    },
    {
      "cell_type": "code",
      "source": [
        "# Lets Check outliers in 'Rating' Column\n",
        "plt.figure(figsize=(5,5))\n",
        "sns.boxplot(y='dealer_cost',data=cars_df,orient='v',palette='Set1')\n",
        "plt.title('Boxplot for Dealer cost')\n",
        "plt.ylabel('Dealer Cost')"
      ],
      "metadata": {
        "colab": {
          "base_uri": "https://localhost:8080/",
          "height": 340
        },
        "id": "z6gXy2Ln7ZJH",
        "outputId": "7578fb7d-e4ad-4060-82e6-1410eba05043"
      },
      "execution_count": 21,
      "outputs": [
        {
          "output_type": "execute_result",
          "data": {
            "text/plain": [
              "Text(0, 0.5, 'Dealer Cost')"
            ]
          },
          "metadata": {},
          "execution_count": 21
        },
        {
          "output_type": "display_data",
          "data": {
            "text/plain": [
              "<Figure size 360x360 with 1 Axes>"
            ],
            "image/png": "[encoded data removed]"
          },
          "metadata": {
            "needs_background": "light"
          }
        }
      ]
    },
    {
      "cell_type": "code",
      "source": [
        "plt.figure(figsize=(6,6))\n",
        "g = sns.distplot(a=cars_df['eng_size'])"
      ],
      "metadata": {
        "colab": {
          "base_uri": "https://localhost:8080/",
          "height": 446
        },
        "id": "sKnubBjG7ZMf",
        "outputId": "51d579db-a09e-4699-9edc-19d9965dd126"
      },
      "execution_count": 23,
      "outputs": [
        {
          "output_type": "stream",
          "name": "stderr",
          "text": [
            "/usr/local/lib/python3.8/dist-packages/seaborn/distributions.py:2619: FutureWarning: `distplot` is a deprecated function and will be removed in a future version. Please adapt your code to use either `displot` (a figure-level function with similar flexibility) or `histplot` (an axes-level function for histograms).\n",
            "  warnings.warn(msg, FutureWarning)\n"
          ]
        },
        {
          "output_type": "display_data",
          "data": {
            "text/plain": [
              "<Figure size 432x432 with 1 Axes>"
            ],
            "image/png": "[encoded data removed]"
          },
          "metadata": {
            "needs_background": "light"
          }
        }
      ]
    },
    {
      "cell_type": "code",
      "source": [
        "# Lets Check outliers in 'Rating' Column\n",
        "plt.figure(figsize=(5,5))\n",
        "sns.boxplot(y='eng_size',data=cars_df,orient='v',palette='Set1')\n",
        "plt.title('Boxplot for Engine Size')\n",
        "plt.ylabel('Engine Size')"
      ],
      "metadata": {
        "colab": {
          "base_uri": "https://localhost:8080/",
          "height": 341
        },
        "id": "9rXBeFyV7ZPX",
        "outputId": "033a7efa-5f8b-4c7d-e351-da0869749e0a"
      },
      "execution_count": 24,
      "outputs": [
        {
          "output_type": "execute_result",
          "data": {
            "text/plain": [
              "Text(0, 0.5, 'Engine Size')"
            ]
          },
          "metadata": {},
          "execution_count": 24
        },
        {
          "output_type": "display_data",
          "data": {
            "text/plain": [
              "<Figure size 360x360 with 1 Axes>"
            ],
            "image/png": "[encoded data removed]"
          },
          "metadata": {
            "needs_background": "light"
          }
        }
      ]
    },
    {
      "cell_type": "code",
      "source": [
        "plt.figure(figsize=(6,6))\n",
        "g = sns.distplot(a=cars_df['ncyl'])\n",
        "p = plt.title('Before Handling -1 value')"
      ],
      "metadata": {
        "colab": {
          "base_uri": "https://localhost:8080/",
          "height": 460
        },
        "id": "a0pCsCkP7ZWI",
        "outputId": "6d0449b5-33dc-40b3-e8b5-3b07c301c76b"
      },
      "execution_count": 26,
      "outputs": [
        {
          "output_type": "stream",
          "name": "stderr",
          "text": [
            "/usr/local/lib/python3.8/dist-packages/seaborn/distributions.py:2619: FutureWarning: `distplot` is a deprecated function and will be removed in a future version. Please adapt your code to use either `displot` (a figure-level function with similar flexibility) or `histplot` (an axes-level function for histograms).\n",
            "  warnings.warn(msg, FutureWarning)\n"
          ]
        },
        {
          "output_type": "display_data",
          "data": {
            "text/plain": [
              "<Figure size 432x432 with 1 Axes>"
            ],
            "image/png": "[encoded data removed]"
          },
          "metadata": {
            "needs_background": "light"
          }
        }
      ]
    },
    {
      "cell_type": "code",
      "source": [
        "# Handling -1(min value of Rating). Values in Rating column\n",
        "cars_df['ncyl'] = cars_df['ncyl'].apply(lambda x: np.NaN if x==-1 else x)\n",
        "cars_df['ncyl'] = cars_df['ncyl'].fillna(cars_df['ncyl'].mean())"
      ],
      "metadata": {
        "id": "Ens_cauh7Za0"
      },
      "execution_count": 27,
      "outputs": []
    },
    {
      "cell_type": "code",
      "source": [
        "cars_df['ncyl'].min()"
      ],
      "metadata": {
        "colab": {
          "base_uri": "https://localhost:8080/"
        },
        "id": "neK7kLf44Zde",
        "outputId": "0b393202-4bff-4f62-f2e5-7eea30528256"
      },
      "execution_count": 29,
      "outputs": [
        {
          "output_type": "execute_result",
          "data": {
            "text/plain": [
              "3.0"
            ]
          },
          "metadata": {},
          "execution_count": 29
        }
      ]
    },
    {
      "cell_type": "code",
      "source": [
        "# Visualising 'Rating' column\n",
        "plt.figure(figsize=(6,6))\n",
        "g = sns.distplot(a=cars_df['ncyl'])\n",
        "p = plt.title('After Handling -1 value')"
      ],
      "metadata": {
        "colab": {
          "base_uri": "https://localhost:8080/",
          "height": 460
        },
        "id": "x8aCD4vL4Zf2",
        "outputId": "1766afd8-fb91-423b-fd39-b35219726e88"
      },
      "execution_count": 30,
      "outputs": [
        {
          "output_type": "stream",
          "name": "stderr",
          "text": [
            "/usr/local/lib/python3.8/dist-packages/seaborn/distributions.py:2619: FutureWarning: `distplot` is a deprecated function and will be removed in a future version. Please adapt your code to use either `displot` (a figure-level function with similar flexibility) or `histplot` (an axes-level function for histograms).\n",
            "  warnings.warn(msg, FutureWarning)\n"
          ]
        },
        {
          "output_type": "display_data",
          "data": {
            "text/plain": [
              "<Figure size 432x432 with 1 Axes>"
            ],
            "image/png": "[encoded data removed]"
          },
          "metadata": {
            "needs_background": "light"
          }
        }
      ]
    },
    {
      "cell_type": "code",
      "source": [
        "# Lets Check outliers in 'Rating' Column\n",
        "plt.figure(figsize=(5,5))\n",
        "sns.boxplot(y='ncyl',data=cars_df,orient='v',palette='Set1')\n",
        "plt.title('Boxplot for NCYL')\n",
        "plt.ylabel('NCYL')"
      ],
      "metadata": {
        "colab": {
          "base_uri": "https://localhost:8080/",
          "height": 340
        },
        "id": "34f4OFcM3i6G",
        "outputId": "f9c5ce57-0329-4673-855b-87f5875d13c7"
      },
      "execution_count": 31,
      "outputs": [
        {
          "output_type": "execute_result",
          "data": {
            "text/plain": [
              "Text(0, 0.5, 'NCYL')"
            ]
          },
          "metadata": {},
          "execution_count": 31
        },
        {
          "output_type": "display_data",
          "data": {
            "text/plain": [
              "<Figure size 360x360 with 1 Axes>"
            ],
            "image/png": "[encoded data removed]"
          },
          "metadata": {
            "needs_background": "light"
          }
        }
      ]
    },
    {
      "cell_type": "code",
      "source": [],
      "metadata": {
        "id": "PF6mNYjC3i8t"
      },
      "execution_count": null,
      "outputs": []
    },
    {
      "cell_type": "code",
      "source": [],
      "metadata": {
        "id": "yeGBEpH9-G7U"
      },
      "execution_count": null,
      "outputs": []
    },
    {
      "cell_type": "code",
      "source": [],
      "metadata": {
        "id": "bIEpTJod-G-j"
      },
      "execution_count": null,
      "outputs": []
    },
    {
      "cell_type": "code",
      "source": [],
      "metadata": {
        "id": "paGsM1Fs-HF6"
      },
      "execution_count": null,
      "outputs": []
    },
    {
      "cell_type": "code",
      "source": [],
      "metadata": {
        "id": "3LIutY9w-HJf"
      },
      "execution_count": null,
      "outputs": []
    },
    {
      "cell_type": "code",
      "source": [],
      "metadata": {
        "id": "spdZccNJ-HMY"
      },
      "execution_count": null,
      "outputs": []
    },
    {
      "cell_type": "code",
      "source": [],
      "metadata": {
        "id": "2x0HBINJ-HPO"
      },
      "execution_count": null,
      "outputs": []
    },
    {
      "cell_type": "code",
      "source": [],
      "metadata": {
        "id": "9160Ol_7-HSG"
      },
      "execution_count": null,
      "outputs": []
    },
    {
      "cell_type": "code",
      "source": [],
      "metadata": {
        "id": "mkV_m1U4-HVP"
      },
      "execution_count": null,
      "outputs": []
    },
    {
      "cell_type": "code",
      "source": [],
      "metadata": {
        "id": "c82xZRkx-HYG"
      },
      "execution_count": null,
      "outputs": []
    },
    {
      "cell_type": "code",
      "source": [],
      "metadata": {
        "id": "9NvfxGti-Ha8"
      },
      "execution_count": null,
      "outputs": []
    },
    {
      "cell_type": "code",
      "source": [],
      "metadata": {
        "id": "8l-eb461-Hd0"
      },
      "execution_count": null,
      "outputs": []
    },
    {
      "cell_type": "code",
      "source": [],
      "metadata": {
        "id": "kFg5mOat3i_k"
      },
      "execution_count": null,
      "outputs": []
    }
  ]
}